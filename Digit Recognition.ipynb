{
 "cells": [
  {
   "cell_type": "code",
   "execution_count": 92,
   "id": "07052004",
   "metadata": {},
   "outputs": [],
   "source": [
    "# !pip install tensorflow\n",
    "# !pip install matplotlib\n",
    "# !pip install sklearn\n",
    "from numpy import mean\n",
    "from numpy import std\n",
    "from matplotlib import pyplot as plt\n",
    "from sklearn.model_selection import KFold\n",
    "from tensorflow.keras.datasets import mnist\n",
    "from tensorflow.keras.utils import to_categorical\n",
    "from tensorflow.keras.models import Sequential\n",
    "from tensorflow.keras.layers import Conv2D\n",
    "from tensorflow.keras.layers import MaxPooling2D\n",
    "from tensorflow.keras.layers import Dense\n",
    "from tensorflow.keras.layers import Flatten\n",
    "from tensorflow.keras.optimizers import SGD\n",
    " "
   ]
  },
  {
   "cell_type": "code",
   "execution_count": 93,
   "id": "faf9c15b",
   "metadata": {},
   "outputs": [
    {
     "name": "stdout",
     "output_type": "stream",
     "text": [
      "EGvsBOOM31.png\n",
      "(8429, 16, 16)\n",
      "(8429,)\n",
      "(48, 16, 16, 1)\n",
      "Number Train: 8429 Number Test: 1060\n",
      "[1896, 1812, 1004, 1064, 416, 845, 685, 813, 298, 656]\n",
      "9489\n"
     ]
    }
   ],
   "source": [
    "# !pip install opencv-python\n",
    "import os\n",
    "import cv2\n",
    "import numpy as np\n",
    "# load train and test dataset\n",
    "# def load_dataset():\n",
    "\n",
    "images = []\n",
    "trainX = []\n",
    "trainY = []\n",
    "testX = []\n",
    "testY = []\n",
    "numberOfEach = [0] * 10\n",
    "for i in range(0, 10):\n",
    "    folder = str(i) + '/'\n",
    "    files = os.listdir(folder)\n",
    "    for f in range(0, len(files)):\n",
    "        numberOfEach[i] += 1\n",
    "        filename = files[f]\n",
    "        img = cv2.imread(os.path.join(folder,filename),cv2.IMREAD_UNCHANGED)\n",
    "        if img is not None:\n",
    "            if(f > int(len(files)/9)):\n",
    "                trainX.append(img)\n",
    "                trainY.append(i)\n",
    "            else:\n",
    "                testX.append(img)\n",
    "                testY.append(i)\n",
    "                \n",
    "# this is bad data, we are saving it as -1\n",
    "folder = 'BadData/'\n",
    "files = os.listdir(folder)\n",
    "draftX = []\n",
    "for f in range(0, len(files)):\n",
    "    filename = files[f]\n",
    "    if f == 16:\n",
    "        print(filename)\n",
    "    img = cv2.imread(os.path.join(folder,filename),cv2.IMREAD_UNCHANGED)\n",
    "    if img is not None:\n",
    "            draftX.append(img)\n",
    "\n",
    "trainX = np.array(trainX)\n",
    "trainY = np.array(trainY)\n",
    "testX = np.array(testX)\n",
    "testY = np.array(testY)\n",
    "\n",
    "# added late, fix up the drafting\n",
    "draftX = np.array(draftX)\n",
    "draftX = draftX.reshape((draftX.shape[0], 16, 16, 1))\n",
    "draftX = draftX.astype('float32')\n",
    "draftX = draftX / 255.0\n",
    "\n",
    "print(trainX.shape)\n",
    "print(trainY.shape)\n",
    "print(draftX.shape)\n",
    "\n",
    "print('Number Train: {} Number Test: {}'.format(len(trainX), len(testX)))\n",
    "print(numberOfEach)\n",
    "print(np.sum(numberOfEach))"
   ]
  },
  {
   "cell_type": "code",
   "execution_count": 94,
   "id": "168b459a",
   "metadata": {},
   "outputs": [
    {
     "name": "stdout",
     "output_type": "stream",
     "text": [
      "loaded from mnist\n",
      "(60000, 28, 28)\n",
      "(60000,)\n",
      "(60000, 28, 28)\n",
      "(60000,)\n",
      "(60000, 28, 28, 1)\n",
      "(60000, 10)\n",
      "\n",
      "\n",
      "\n",
      "(8429, 16, 16)\n",
      "(8429,)\n",
      "(8429, 16, 16, 1)\n",
      "(8429, 10)\n"
     ]
    }
   ],
   "source": [
    "# print(trainX[0])\n",
    "# print(testX[0])\n",
    "\n",
    "# return\n",
    "# # load dataset\n",
    "\n",
    "def load_dataset(trainX, trainY, testX, testY):\n",
    "    print(trainX.shape)\n",
    "    print(trainY.shape)\n",
    "    \n",
    "    # # reshape dataset to have a single channel\n",
    "    trainX = trainX.reshape((trainX.shape[0], 16, 16, 1))\n",
    "    testX = testX.reshape((testX.shape[0], 16, 16, 1))\n",
    "    # # one hot encode target values\n",
    "    trainY = to_categorical(trainY)\n",
    "    testY = to_categorical(testY)\n",
    "    return trainX, trainY, testX, testY\n",
    "\n",
    "def load_dataset1(trainX, trainY, testX, testY):\n",
    "    print(trainX.shape)\n",
    "    print(trainY.shape)\n",
    "\n",
    "    # # reshape dataset to have a single channel\n",
    "    trainX = trainX.reshape((trainX.shape[0], 28, 28, 1))\n",
    "    testX = testX.reshape((testX.shape[0], 28, 28, 1))\n",
    "    # # one hot encode target values\n",
    "    trainY = to_categorical(trainY)\n",
    "    testY = to_categorical(testY)\n",
    "    return trainX, trainY, testX, testY\n",
    "\n",
    "(trainX1, trainY1), (testX1, testY1) = mnist.load_data()\n",
    "print(\"loaded from mnist\")\n",
    "print(trainX1.shape)\n",
    "print(trainY1.shape)\n",
    "trainX1, trainY1, testX1, testY1 = load_dataset1(trainX1, trainY1, testX1, testY1)\n",
    "print(trainX1.shape)\n",
    "print(trainY1.shape)\n",
    "\n",
    "print(\"\\n\\n\")\n",
    "trainX, trainY, testX, testY = load_dataset(trainX, trainY, testX, testY)\n",
    "print(trainX.shape)\n",
    "print(trainY.shape)"
   ]
  },
  {
   "cell_type": "code",
   "execution_count": 95,
   "id": "ff17de58",
   "metadata": {},
   "outputs": [
    {
     "name": "stdout",
     "output_type": "stream",
     "text": [
      "(8429, 16, 16, 1)\n",
      "(8429, 10)\n",
      "\n",
      "\n",
      "\n"
     ]
    }
   ],
   "source": [
    "# convert from integers to floats\n",
    "def prep_pixels(train, test):\n",
    "    train_norm = train.astype('float32')\n",
    "    test_norm = test.astype('float32')\n",
    "    # normalize to range 0-1\n",
    "    train_norm = train_norm / 255.0\n",
    "    test_norm = test_norm / 255.0\n",
    "    # return normalized images\n",
    "    return train_norm, test_norm\n",
    "trainX, testX = prep_pixels(trainX, testX)\n",
    "\n",
    "print(trainX.shape)\n",
    "print(trainY.shape)\n",
    "print(\"\\n\\n\")\n"
   ]
  },
  {
   "cell_type": "code",
   "execution_count": 97,
   "id": "d5ce47c2",
   "metadata": {},
   "outputs": [],
   "source": [
    "# define cnn model\n",
    "def define_model():\n",
    "    model = Sequential()\n",
    "    model.add(Conv2D(32, (3, 3), activation='relu', kernel_initializer='he_uniform', input_shape=(16, 16, 1)))\n",
    "    model.add(MaxPooling2D((2, 2)))\n",
    "    model.add(Conv2D(64, (3, 3), activation='relu', kernel_initializer='he_uniform'))\n",
    "    model.add(Conv2D(64, (3, 3), activation='relu', kernel_initializer='he_uniform'))\n",
    "    model.add(MaxPooling2D((2, 2)))\n",
    "    model.add(Flatten())\n",
    "    model.add(Dense(100, activation='relu', kernel_initializer='he_uniform'))\n",
    "    model.add(Dense(10, activation='softmax'))\n",
    "    # compile model\n",
    "    opt = SGD(learning_rate=0.01, momentum=0.9)\n",
    "    model.compile(optimizer=opt, loss='categorical_crossentropy', metrics=['accuracy'])\n",
    "#     model.compile(optimizer=opt, loss='sparse_categorical_crossentropy', metrics=['accuracy'])\n",
    "\n",
    "    return model\n",
    "\n",
    "# sparse_categorical_crossentropy\n",
    "#     model = Sequential()\n",
    "#     model.add(Conv2D(32, (3, 3), activation='relu', kernel_initializer='he_uniform', input_shape=(16, 16, 1)))\n",
    "#     model.add(MaxPooling2D((2, 2)))\n",
    "#     model.add(Flatten())\n",
    "#     model.add(Dense(100, activation='relu', kernel_initializer='he_uniform'))\n",
    "#     model.add(Dense(10, activation='softmax'))\n",
    "#     # compile model\n",
    "#     opt = SGD(learning_rate=0.01, momentum=0.9)\n",
    "#     model.compile(optimizer=opt, loss='categorical_crossentropy', metrics=['accuracy'])\n",
    "#     return model\n",
    "model = define_model()"
   ]
  },
  {
   "cell_type": "code",
   "execution_count": 98,
   "id": "fbf59b23",
   "metadata": {},
   "outputs": [
    {
     "name": "stdout",
     "output_type": "stream",
     "text": [
      "(10000, 28, 28, 1)\n",
      "(60000, 10)\n",
      "(1060, 16, 16, 1)\n",
      "(8429, 10)\n",
      "Epoch 1/10\n",
      "264/264 [==============================] - 2s 7ms/step - loss: 0.1188 - accuracy: 0.9665\n",
      "Epoch 2/10\n",
      "264/264 [==============================] - 2s 7ms/step - loss: 0.0050 - accuracy: 0.9992\n",
      "Epoch 3/10\n",
      "264/264 [==============================] - 2s 7ms/step - loss: 0.0035 - accuracy: 0.9996\n",
      "Epoch 4/10\n",
      "264/264 [==============================] - 2s 7ms/step - loss: 0.0032 - accuracy: 0.9994\n",
      "Epoch 5/10\n",
      "264/264 [==============================] - 2s 7ms/step - loss: 0.0027 - accuracy: 0.9996\n",
      "Epoch 6/10\n",
      "264/264 [==============================] - 2s 7ms/step - loss: 0.0024 - accuracy: 0.9995\n",
      "Epoch 7/10\n",
      "264/264 [==============================] - 2s 7ms/step - loss: 0.0026 - accuracy: 0.9996\n",
      "Epoch 8/10\n",
      "264/264 [==============================] - 2s 7ms/step - loss: 0.0024 - accuracy: 0.9995\n",
      "Epoch 9/10\n",
      "264/264 [==============================] - 2s 7ms/step - loss: 0.0023 - accuracy: 0.9996\n",
      "Epoch 10/10\n",
      "264/264 [==============================] - 2s 7ms/step - loss: 0.0016 - accuracy: 0.9996\n"
     ]
    },
    {
     "data": {
      "text/plain": [
       "<keras.callbacks.History at 0x2780b478e10>"
      ]
     },
     "execution_count": 98,
     "metadata": {},
     "output_type": "execute_result"
    }
   ],
   "source": [
    "\n",
    "# print(trainX[0])\n",
    "print(testX1.shape)\n",
    "print(trainY1.shape)\n",
    "print(testX.shape)\n",
    "print(trainY.shape)\n",
    "model.fit(trainX, trainY, epochs=10, batch_size=32, verbose=1)\n",
    "# model.fit(trainX, trainY, epochs=10, batch_size=32, verbose=1)"
   ]
  },
  {
   "cell_type": "code",
   "execution_count": 99,
   "id": "a1d34067",
   "metadata": {},
   "outputs": [
    {
     "name": "stdout",
     "output_type": "stream",
     "text": [
      "> 99.941\n",
      "> 100.000\n",
      "> 99.941\n",
      "> 99.941\n",
      "> 99.941\n"
     ]
    }
   ],
   "source": [
    "def evaluate_model(dataX, dataY, n_folds=5):\n",
    "\n",
    "    scores, histories = list(), list()\n",
    "    # prepare cross validation\n",
    "    kfold = KFold(n_folds, shuffle=True, random_state=1)\n",
    "    # enumerate splits\n",
    "    for train_ix, test_ix in kfold.split(dataX):\n",
    "    # define model\n",
    "        model = define_model()\n",
    "        # select rows for train and test\n",
    "        trainX, trainY, testX, testY = dataX[train_ix], dataY[train_ix], dataX[test_ix], dataY[test_ix]\n",
    "        # fit model\n",
    "        history = model.fit(trainX, trainY, epochs=10, batch_size=32, validation_data=(testX, testY), verbose=0)\n",
    "        # evaluate model\n",
    "        _, acc = model.evaluate(testX, testY, verbose=0)\n",
    "        print('> %.3f' % (acc * 100.0))\n",
    "#         print(acc)\n",
    "        \n",
    "        # stores scores\n",
    "        scores.append(acc)\n",
    "        histories.append(history)\n",
    "    return scores, histories\n",
    "    \n",
    "scores, histories = evaluate_model(trainX, trainY)\n"
   ]
  },
  {
   "cell_type": "code",
   "execution_count": 101,
   "id": "01c6c3e0",
   "metadata": {},
   "outputs": [
    {
     "name": "stderr",
     "output_type": "stream",
     "text": [
      "C:\\Users\\chpiper\\AppData\\Local\\Continuum\\anaconda3\\envs\\tf\\lib\\site-packages\\ipykernel_launcher.py:4: MatplotlibDeprecationWarning: Adding an axes using the same arguments as a previous axes currently reuses the earlier instance.  In a future version, a new instance will always be created and returned.  Meanwhile, this warning can be suppressed, and the future behavior ensured, by passing a unique label to each axes instance.\n",
      "  after removing the cwd from sys.path.\n",
      "C:\\Users\\chpiper\\AppData\\Local\\Continuum\\anaconda3\\envs\\tf\\lib\\site-packages\\ipykernel_launcher.py:9: MatplotlibDeprecationWarning: Adding an axes using the same arguments as a previous axes currently reuses the earlier instance.  In a future version, a new instance will always be created and returned.  Meanwhile, this warning can be suppressed, and the future behavior ensured, by passing a unique label to each axes instance.\n",
      "  if __name__ == '__main__':\n"
     ]
    },
    {
     "data": {
      "image/png": "[encoded data removed]",
      "text/plain": [
       "<Figure size 432x288 with 2 Axes>"
      ]
     },
     "metadata": {
      "needs_background": "light"
     },
     "output_type": "display_data"
    }
   ],
   "source": [
    "def summarize_diagnostics(histories):\n",
    "    for i in range(len(histories)):\n",
    "        # plot loss\n",
    "        plt.subplot(2, 1, 1)\n",
    "        plt.title('Cross Entropy Loss')\n",
    "        plt.plot(histories[i].history['loss'], color='blue', label='train')\n",
    "        plt.plot(histories[i].history['val_loss'], color='orange', label='test')\n",
    "        # plot accuracy\n",
    "        plt.subplot(2, 1, 2)\n",
    "        plt.title('Classification Accuracy')\n",
    "        plt.plot(histories[i].history['accuracy'], color='blue', label='train')\n",
    "        plt.plot(histories[i].history['val_accuracy'], color='orange', label='test')\n",
    "    plt.show()\n",
    "    \n",
    "summarize_diagnostics(histories)\n"
   ]
  },
  {
   "cell_type": "code",
   "execution_count": 102,
   "id": "6cf12823",
   "metadata": {},
   "outputs": [
    {
     "name": "stdout",
     "output_type": "stream",
     "text": [
      "Accuracy: mean=99.953 std=0.024, n=5\n"
     ]
    },
    {
     "data": {
      "image/png": "[encoded data removed]",
      "text/plain": [
       "<Figure size 432x288 with 1 Axes>"
      ]
     },
     "metadata": {
      "needs_background": "light"
     },
     "output_type": "display_data"
    }
   ],
   "source": [
    "def summarize_performance(scores):\n",
    "    # print summary\n",
    "    print('Accuracy: mean=%.3f std=%.3f, n=%d' % (mean(scores)*100, std(scores)*100, len(scores)))\n",
    "    # box and whisker plots of results\n",
    "    plt.boxplot(scores)\n",
    "    plt.show()\n",
    "summarize_performance(scores)"
   ]
  },
  {
   "cell_type": "code",
   "execution_count": 103,
   "id": "f1037b5f",
   "metadata": {},
   "outputs": [
    {
     "name": "stdout",
     "output_type": "stream",
     "text": [
      "0.8064771\n",
      "0.12411103\n"
     ]
    }
   ],
   "source": [
    "# calculate hte lowest confidence of all the highest confidences, also the highest of the second highest confidences\n",
    "output = model.predict(testX)\n",
    "maxVal = 10000\n",
    "secondMaxVal = -1\n",
    "for score in output:\n",
    "    score[::-1].sort()\n",
    "    if(score[0] < maxVal):\n",
    "        maxVal = score[0]\n",
    "        \n",
    "    if(score[1] > secondMaxVal):\n",
    "        secondMaxVal = score[1]\n",
    "print( maxVal)\n",
    "print( secondMaxVal)\n",
    "\n",
    "#     print(acc)\n",
    "    "
   ]
  },
  {
   "cell_type": "code",
   "execution_count": 104,
   "id": "23166298",
   "metadata": {},
   "outputs": [
    {
     "name": "stdout",
     "output_type": "stream",
     "text": [
      "0.3470975\n",
      "11\n"
     ]
    }
   ],
   "source": [
    "output = model.predict(draftX)\n",
    "maxVal = 10000\n",
    "maxIndex = 0\n",
    "# maxFilename = \"\"\n",
    "for i in range(0, len(output)):\n",
    "    score = output[i]\n",
    "    score[::-1].sort()\n",
    "    if(score[0] < maxVal):\n",
    "        maxVal = score[0]\n",
    "        maxIndex = i\n",
    "        \n",
    "#     if(score[1] > secondMaxVal):\n",
    "#         secondMaxVal = score[1]\n",
    "print( maxVal)\n",
    "print(maxIndex)\n",
    "# print( secondMaxVal)\n",
    "\n",
    "#     print(acc)"
   ]
  },
  {
   "cell_type": "code",
   "execution_count": 105,
   "id": "3ba8122d",
   "metadata": {},
   "outputs": [],
   "source": [
    "output = model.predict(testX)\n",
    "maxVal = 10000\n",
    "secondMaxVal = -1\n",
    "for i in range(0, len(output)):\n",
    "    score = output[i]\n",
    "    prediction = np.argmax(score)\n",
    "    yVal = np.argmax(testY[i])\n",
    "    if(prediction != yVal):\n",
    "        print(prediction)\n",
    "        print(yVal)\n",
    "#     print(np.argmax(score))\n",
    "    \n",
    "#     score[::-1].sort()\n",
    "#     if(score[0] < maxVal):\n",
    "#         maxVal = score[0]\n",
    "        \n",
    "#     if(score[1] > secondMaxVal):\n",
    "#         secondMaxVal = score[1]\n",
    "# print( maxVal)\n",
    "# print( secondMaxVal)\n",
    "\n",
    "#     print(acc)"
   ]
  },
  {
   "cell_type": "code",
   "execution_count": 106,
   "id": "7bba60c6",
   "metadata": {},
   "outputs": [],
   "source": [
    "model.save('model1.h5')"
   ]
  },
  {
   "cell_type": "code",
   "execution_count": null,
   "id": "23c5bbe1",
   "metadata": {},
   "outputs": [],
   "source": []
  },
  {
   "cell_type": "code",
   "execution_count": null,
   "id": "205f9108",
   "metadata": {},
   "outputs": [],
   "source": []
  },
  {
   "cell_type": "code",
   "execution_count": null,
   "id": "d9ace1f7",
   "metadata": {},
   "outputs": [],
   "source": []
  },
  {
   "cell_type": "code",
   "execution_count": null,
   "id": "63537b9d",
   "metadata": {},
   "outputs": [],
   "source": []
  }
 ],
 "metadata": {
  "kernelspec": {
   "display_name": "Python 3",
   "language": "python",
   "name": "python3"
  },
  "language_info": {
   "codemirror_mode": {
    "name": "ipython",
    "version": 3
   },
   "file_extension": ".py",
   "mimetype": "text/x-python",
   "name": "python",
   "nbconvert_exporter": "python",
   "pygments_lexer": "ipython3",
   "version": "3.6.13"
  }
 },
 "nbformat": 4,
 "nbformat_minor": 5
}
